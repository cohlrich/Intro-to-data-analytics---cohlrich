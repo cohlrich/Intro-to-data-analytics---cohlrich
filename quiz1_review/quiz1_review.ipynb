{
 "cells": [
  {
   "cell_type": "code",
   "execution_count": 1,
   "id": "f17491a7",
   "metadata": {},
   "outputs": [],
   "source": [
    "from datascience import *\n",
    "import numpy as np\n",
    "\n",
    "%matplotlib inline\n",
    "import matplotlib.pyplot as plots\n",
    "plots.style.use('fivethirtyeight')"
   ]
  },
  {
   "cell_type": "code",
   "execution_count": 2,
   "id": "2952ffaf",
   "metadata": {},
   "outputs": [
    {
     "data": {
      "text/html": [
       "<table border=\"1\" class=\"dataframe\">\n",
       "    <thead>\n",
       "        <tr>\n",
       "            <th>Votes</th> <th>Rating</th> <th>Title</th> <th>Year</th> <th>Decade</th>\n",
       "        </tr>\n",
       "    </thead>\n",
       "    <tbody>\n",
       "        <tr>\n",
       "            <td>88355 </td> <td>8.4   </td> <td>M                  </td> <td>1931</td> <td>1930  </td>\n",
       "        </tr>\n",
       "        <tr>\n",
       "            <td>132823</td> <td>8.3   </td> <td>Singin' in the Rain</td> <td>1952</td> <td>1950  </td>\n",
       "        </tr>\n",
       "        <tr>\n",
       "            <td>74178 </td> <td>8.3   </td> <td>All About Eve      </td> <td>1950</td> <td>1950  </td>\n",
       "        </tr>\n",
       "        <tr>\n",
       "            <td>635139</td> <td>8.6   </td> <td>Léon               </td> <td>1994</td> <td>1990  </td>\n",
       "        </tr>\n",
       "        <tr>\n",
       "            <td>145514</td> <td>8.2   </td> <td>The Elephant Man   </td> <td>1980</td> <td>1980  </td>\n",
       "        </tr>\n",
       "    </tbody>\n",
       "</table>\n",
       "<p>... (245 rows omitted)</p>"
      ],
      "text/plain": [
       "<IPython.core.display.HTML object>"
      ]
     },
     "metadata": {},
     "output_type": "display_data"
    }
   ],
   "source": [
    "imdb = Table.read_table('imdb.csv')\n",
    "imdb.show(5)"
   ]
  },
  {
   "cell_type": "markdown",
   "id": "5b089e0f",
   "metadata": {},
   "source": [
    "# Question 1\n",
    "Find the ten movies released in the year 2000 or later with the highest number of votes according to imdb.csv. Format your answer as a table with columns Title and Votes (in that order) of the three requested movies."
   ]
  },
  {
   "cell_type": "code",
   "execution_count": 31,
   "id": "424c9498",
   "metadata": {},
   "outputs": [
    {
     "name": "stdout",
     "output_type": "stream",
     "text": [
      "Title                                             | Votes\n",
      "The Dark Knight                                   | 1473049\n",
      "Inception                                         | 1271949\n",
      "The Lord of the Rings: The Fellowship of the Ring | 1099087\n",
      "The Lord of the Rings: The Return of the King     | 1074146\n",
      "The Dark Knight Rises                             | 997350\n",
      "The Lord of the Rings: The Two Towers             | 967389\n",
      "Gladiator                                         | 862216\n",
      "The Avengers                                      | 862016\n",
      "Batman Begins                                     | 850601\n",
      "Django Unchained                                  | 804729\n"
     ]
    }
   ],
   "source": [
    "movies_2000 = imdb.where('Year', are.above_or_equal_to(2000))\n",
    "top_ten = movies_2000.sort('Votes',10)\n",
    "top_ten1 = top_ten.take(np.arange(0,10))\n",
    "final = top_ten1.select(\"Title\",\"Votes\")\n",
    "print(final)"
   ]
  },
  {
   "cell_type": "markdown",
   "id": "ce5d30cb",
   "metadata": {},
   "source": [
    "# Question 2\n",
    "\n",
    "Create a table with columns Title and Votes containing all movies released in 1999.\n",
    "\n",
    "Next, attach a new column to the table called Percent Votes that contains the percent of votes each movie received when considered among all votes cast for movies released in 1999.\n",
    "\n",
    "For example, if the total number of votes cast for movies released in 1999 is 200 and \"The Matrix\" received 30 of them, then the column Percent Votes corresponding to \"The Matrix\" should 15."
   ]
  },
  {
   "cell_type": "code",
   "execution_count": 46,
   "id": "e52b9dde",
   "metadata": {},
   "outputs": [
    {
     "name": "stdout",
     "output_type": "stream",
     "text": [
      "Title           | Votes   | percent\n",
      "Fight Club      | 1177098 | 27.4441\n",
      "American Beauty | 735056  | 17.1379\n",
      "The Sixth Sense | 630994  | 14.7117\n",
      "The Matrix      | 1073043 | 25.0181\n",
      "The Green Mile  | 672878  | 15.6882\n"
     ]
    }
   ],
   "source": [
    "movies_1999 = imdb.where('Year', are.equal_to(1999))\n",
    "votes = sum(movies_1999.column('Votes'))\n",
    "percent = (movies_1999.column('Votes')/votes)*100\n",
    "final = movies_1999.with_column('percent',percent)\n",
    "finalfinal = final.select('Title','Votes','percent')\n",
    "print(finalfinal)"
   ]
  },
  {
   "cell_type": "code",
   "execution_count": null,
   "id": "fc621d03",
   "metadata": {},
   "outputs": [],
   "source": []
  }
 ],
 "metadata": {
  "kernelspec": {
   "display_name": "Python 3",
   "language": "python",
   "name": "python3"
  },
  "language_info": {
   "codemirror_mode": {
    "name": "ipython",
    "version": 3
   },
   "file_extension": ".py",
   "mimetype": "text/x-python",
   "name": "python",
   "nbconvert_exporter": "python",
   "pygments_lexer": "ipython3",
   "version": "3.12.1"
  }
 },
 "nbformat": 4,
 "nbformat_minor": 5
}
