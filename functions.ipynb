{
 "cells": [
  {
   "cell_type": "markdown",
   "metadata": {},
   "source": [
    "# Lecture 9: Functions #"
   ]
  },
  {
   "cell_type": "code",
   "execution_count": 20,
   "metadata": {},
   "outputs": [],
   "source": [
    "from datascience import *\n",
    "import numpy as np\n",
    "\n",
    "%matplotlib inline\n",
    "import matplotlib.pyplot as plots\n",
    "plots.style.use('fivethirtyeight')"
   ]
  },
  {
   "cell_type": "markdown",
   "metadata": {},
   "source": [
    "## Defining Functions ##  "
   ]
  },
  {
   "cell_type": "markdown",
   "metadata": {},
   "source": [
    "Example: Create a function that takes a numerical input and triples it: $\\textsf{triple}(x)=3\\,x$"
   ]
  },
  {
   "cell_type": "code",
   "execution_count": 21,
   "metadata": {},
   "outputs": [],
   "source": [
    "def triple(x):\n",
    "    return 3 * x"
   ]
  },
  {
   "cell_type": "code",
   "execution_count": 22,
   "metadata": {},
   "outputs": [
    {
     "data": {
      "text/plain": [
       "12"
      ]
     },
     "execution_count": 22,
     "metadata": {},
     "output_type": "execute_result"
    }
   ],
   "source": [
    "triple(4)"
   ]
  },
  {
   "cell_type": "markdown",
   "metadata": {},
   "source": [
    "We can also assign a value to a name, and call the function on the name:"
   ]
  },
  {
   "cell_type": "code",
   "execution_count": 23,
   "metadata": {},
   "outputs": [],
   "source": [
    "num = 4"
   ]
  },
  {
   "cell_type": "code",
   "execution_count": 24,
   "metadata": {},
   "outputs": [
    {
     "data": {
      "text/plain": [
       "12"
      ]
     },
     "execution_count": 24,
     "metadata": {},
     "output_type": "execute_result"
    }
   ],
   "source": [
    "triple(num)"
   ]
  },
  {
   "cell_type": "markdown",
   "metadata": {},
   "source": [
    "## The Anatomy of a Function ##  \n",
    "    \n",
    "```python\n",
    "def functionname(Arguments_Parameters_Expressions_or_Values):     \n",
    "      return return_expression\n",
    "```"
   ]
  },
  {
   "cell_type": "markdown",
   "metadata": {},
   "source": [
    "## Functions are Type-Agnostic  ## "
   ]
  },
  {
   "cell_type": "code",
   "execution_count": 25,
   "metadata": {
    "scrolled": true
   },
   "outputs": [
    {
     "data": {
      "text/plain": [
       "'hahaha'"
      ]
     },
     "execution_count": 25,
     "metadata": {},
     "output_type": "execute_result"
    }
   ],
   "source": [
    "triple('ha')"
   ]
  },
  {
   "cell_type": "code",
   "execution_count": 26,
   "metadata": {},
   "outputs": [
    {
     "data": {
      "text/plain": [
       "array([0, 3, 6, 9])"
      ]
     },
     "execution_count": 26,
     "metadata": {},
     "output_type": "execute_result"
    }
   ],
   "source": [
    "triple(np.arange(4))"
   ]
  },
  {
   "cell_type": "markdown",
   "metadata": {},
   "source": [
    "### Discussion ###\n",
    "\n",
    "- What does the following function do?\n",
    "- What type of input does it take?\n",
    "- What type of output does it produce?\n",
    "- What's a good name for the function?\n",
    "\n",
    "```python\n",
    "def f(s):     \n",
    "      return np.round(s / sum(s) * 100, 2)\n",
    "```"
   ]
  },
  {
   "cell_type": "code",
   "execution_count": 27,
   "metadata": {},
   "outputs": [],
   "source": [
    "def percent_of_total(s):\n",
    "    return np.round(s / sum(s) * 100, 2)"
   ]
  },
  {
   "cell_type": "code",
   "execution_count": 28,
   "metadata": {},
   "outputs": [
    {
     "data": {
      "text/plain": [
       "array([1, 2, 3, 4])"
      ]
     },
     "execution_count": 28,
     "metadata": {},
     "output_type": "execute_result"
    }
   ],
   "source": [
    "first_four=make_array(1,2,3,4)\n",
    "first_four"
   ]
  },
  {
   "cell_type": "code",
   "execution_count": 29,
   "metadata": {},
   "outputs": [
    {
     "data": {
      "text/plain": [
       "array([ 10.,  20.,  30.,  40.])"
      ]
     },
     "execution_count": 29,
     "metadata": {},
     "output_type": "execute_result"
    }
   ],
   "source": [
    "percent_of_total(first_four)"
   ]
  },
  {
   "cell_type": "code",
   "execution_count": 30,
   "metadata": {},
   "outputs": [
    {
     "data": {
      "text/plain": [
       "array([  0.4 ,  84.52,  15.08])"
      ]
     },
     "execution_count": 30,
     "metadata": {},
     "output_type": "execute_result"
    }
   ],
   "source": [
    "percent_of_total(make_array(1, 213, 38))"
   ]
  },
  {
   "cell_type": "markdown",
   "metadata": {},
   "source": [
    "### Functions Can Take Multiple Arguments ###"
   ]
  },
  {
   "cell_type": "markdown",
   "metadata": {},
   "source": [
    "Example: Calculate the Hypotenuse Length of a Right Triangle\n",
    "\n",
    "\n",
    "Pythagoras's Theorem: If $x$ and $y$ denote the lengths of the right-angle sides, then the hypotenuse length $h$ satisfies:\n",
    "\n",
    "$$ h^2 = x^2 + y^2 \\qquad \\text{which implies}\\qquad \\hspace{20 pt} h = \\sqrt{ x^2 + y^2 } $$"
   ]
  },
  {
   "cell_type": "code",
   "execution_count": 31,
   "metadata": {},
   "outputs": [],
   "source": [
    "def hypotenuse(x, y):\n",
    "    hypot_squared = (x ** 2 + y ** 2)\n",
    "    hypot = hypot_squared ** 0.5\n",
    "    return hypot"
   ]
  },
  {
   "cell_type": "code",
   "execution_count": 32,
   "metadata": {},
   "outputs": [
    {
     "data": {
      "text/plain": [
       "2.23606797749979"
      ]
     },
     "execution_count": 32,
     "metadata": {},
     "output_type": "execute_result"
    }
   ],
   "source": [
    "hypotenuse(1, 2)"
   ]
  },
  {
   "cell_type": "code",
   "execution_count": 33,
   "metadata": {},
   "outputs": [
    {
     "data": {
      "text/plain": [
       "5.0"
      ]
     },
     "execution_count": 33,
     "metadata": {},
     "output_type": "execute_result"
    }
   ],
   "source": [
    "hypotenuse(3, 4)"
   ]
  },
  {
   "cell_type": "markdown",
   "metadata": {},
   "source": [
    "## Apply ##"
   ]
  },
  {
   "cell_type": "code",
   "execution_count": 34,
   "metadata": {
    "scrolled": true
   },
   "outputs": [
    {
     "data": {
      "text/html": [
       "<table border=\"1\" class=\"dataframe\">\n",
       "    <thead>\n",
       "        <tr>\n",
       "            <th>Person</th> <th>Birth Year</th>\n",
       "        </tr>\n",
       "    </thead>\n",
       "    <tbody>\n",
       "        <tr>\n",
       "            <td>Jim    </td> <td>1985      </td>\n",
       "        </tr>\n",
       "        <tr>\n",
       "            <td>Pam    </td> <td>1988      </td>\n",
       "        </tr>\n",
       "        <tr>\n",
       "            <td>Michael</td> <td>1967      </td>\n",
       "        </tr>\n",
       "        <tr>\n",
       "            <td>Creed  </td> <td>1904      </td>\n",
       "        </tr>\n",
       "    </tbody>\n",
       "</table>"
      ],
      "text/plain": [
       "Person  | Birth Year\n",
       "Jim     | 1985\n",
       "Pam     | 1988\n",
       "Michael | 1967\n",
       "Creed   | 1904"
      ]
     },
     "execution_count": 34,
     "metadata": {},
     "output_type": "execute_result"
    }
   ],
   "source": [
    "ages = Table().with_columns(\n",
    "    'Person', make_array('Jim', 'Pam', 'Michael', 'Creed'),\n",
    "    'Birth Year', make_array(1985, 1988, 1967, 1904)\n",
    ")\n",
    "ages"
   ]
  },
  {
   "cell_type": "code",
   "execution_count": 35,
   "metadata": {},
   "outputs": [],
   "source": [
    "def name_and_birthyear(name, year):\n",
    "    return name + \" was born in \" + str(year) + \".\""
   ]
  },
  {
   "cell_type": "code",
   "execution_count": 36,
   "metadata": {},
   "outputs": [
    {
     "data": {
      "text/plain": [
       "array(['Jim was born in 1985.', 'Pam was born in 1988.',\n",
       "       'Michael was born in 1967.', 'Creed was born in 1904.'],\n",
       "      dtype='<U25')"
      ]
     },
     "execution_count": 36,
     "metadata": {},
     "output_type": "execute_result"
    }
   ],
   "source": [
    "ages_and_years = ages.apply(name_and_birthyear, 'Person', 'Birth Year')\n",
    "ages_and_years"
   ]
  },
  {
   "cell_type": "code",
   "execution_count": 37,
   "metadata": {},
   "outputs": [
    {
     "data": {
      "text/plain": [
       "'Jim was born in 1985.'"
      ]
     },
     "execution_count": 37,
     "metadata": {},
     "output_type": "execute_result"
    }
   ],
   "source": [
    "ages_and_years[0]"
   ]
  },
  {
   "cell_type": "markdown",
   "metadata": {},
   "source": [
    "# Practice\n",
    "\n",
    "1. Define a function named percent_increase that takes two inputs: small and big. The function returns the the *percent* increase from small to big. For example, if small = 100 and big = 105, then percent_increase(small, big) returns 5.\n",
    "\n",
    "2. Apply this function to the Gross and Adjusted Gross columns of top_movies.\n",
    "\n",
    "3. Attach this new column to the table."
   ]
  },
  {
   "cell_type": "code",
   "execution_count": 38,
   "metadata": {},
   "outputs": [
    {
     "data": {
      "text/html": [
       "<table border=\"1\" class=\"dataframe\">\n",
       "    <thead>\n",
       "        <tr>\n",
       "            <th>Title</th> <th>Gross</th> <th>Gross (Adjusted)</th>\n",
       "        </tr>\n",
       "    </thead>\n",
       "    <tbody>\n",
       "        <tr>\n",
       "            <td>Gone with the Wind              </td> <td>198676459</td> <td>1796176700      </td>\n",
       "        </tr>\n",
       "        <tr>\n",
       "            <td>Star Wars                       </td> <td>460998007</td> <td>1583483200      </td>\n",
       "        </tr>\n",
       "        <tr>\n",
       "            <td>The Sound of Music              </td> <td>158671368</td> <td>1266072700      </td>\n",
       "        </tr>\n",
       "        <tr>\n",
       "            <td>E.T.: The Extra-Terrestrial     </td> <td>435110554</td> <td>1261085000      </td>\n",
       "        </tr>\n",
       "        <tr>\n",
       "            <td>Titanic                         </td> <td>658672302</td> <td>1204368000      </td>\n",
       "        </tr>\n",
       "        <tr>\n",
       "            <td>The Ten Commandments            </td> <td>65500000 </td> <td>1164590000      </td>\n",
       "        </tr>\n",
       "        <tr>\n",
       "            <td>Jaws                            </td> <td>260000000</td> <td>1138620700      </td>\n",
       "        </tr>\n",
       "        <tr>\n",
       "            <td>Doctor Zhivago                  </td> <td>111721910</td> <td>1103564200      </td>\n",
       "        </tr>\n",
       "        <tr>\n",
       "            <td>The Exorcist                    </td> <td>232906145</td> <td>983226600       </td>\n",
       "        </tr>\n",
       "        <tr>\n",
       "            <td>Snow White and the Seven Dwarves</td> <td>184925486</td> <td>969010000       </td>\n",
       "        </tr>\n",
       "    </tbody>\n",
       "</table>\n",
       "<p>... (190 rows omitted)</p>"
      ],
      "text/plain": [
       "Title                            | Gross     | Gross (Adjusted)\n",
       "Gone with the Wind               | 198676459 | 1796176700\n",
       "Star Wars                        | 460998007 | 1583483200\n",
       "The Sound of Music               | 158671368 | 1266072700\n",
       "E.T.: The Extra-Terrestrial      | 435110554 | 1261085000\n",
       "Titanic                          | 658672302 | 1204368000\n",
       "The Ten Commandments             | 65500000  | 1164590000\n",
       "Jaws                             | 260000000 | 1138620700\n",
       "Doctor Zhivago                   | 111721910 | 1103564200\n",
       "The Exorcist                     | 232906145 | 983226600\n",
       "Snow White and the Seven Dwarves | 184925486 | 969010000\n",
       "... (190 rows omitted)"
      ]
     },
     "execution_count": 38,
     "metadata": {},
     "output_type": "execute_result"
    }
   ],
   "source": [
    "top_movies = Table.read_table('top_movies_2017.csv').select(\"Title\", \"Gross\", \"Gross (Adjusted)\")\n",
    "top_movies"
   ]
  },
  {
   "cell_type": "code",
   "execution_count": 47,
   "metadata": {},
   "outputs": [
    {
     "data": {
      "text/html": [
       "<table border=\"1\" class=\"dataframe\">\n",
       "    <thead>\n",
       "        <tr>\n",
       "            <th>Title</th> <th>Gross</th> <th>Gross (Adjusted)</th> <th>Percent</th>\n",
       "        </tr>\n",
       "    </thead>\n",
       "    <tbody>\n",
       "        <tr>\n",
       "            <td>Gone with the Wind              </td> <td>198676459</td> <td>1796176700      </td> <td>804.071</td>\n",
       "        </tr>\n",
       "        <tr>\n",
       "            <td>Star Wars                       </td> <td>460998007</td> <td>1583483200      </td> <td>243.49 </td>\n",
       "        </tr>\n",
       "        <tr>\n",
       "            <td>The Sound of Music              </td> <td>158671368</td> <td>1266072700      </td> <td>697.921</td>\n",
       "        </tr>\n",
       "        <tr>\n",
       "            <td>E.T.: The Extra-Terrestrial     </td> <td>435110554</td> <td>1261085000      </td> <td>189.831</td>\n",
       "        </tr>\n",
       "        <tr>\n",
       "            <td>Titanic                         </td> <td>658672302</td> <td>1204368000      </td> <td>82.8478</td>\n",
       "        </tr>\n",
       "        <tr>\n",
       "            <td>The Ten Commandments            </td> <td>65500000 </td> <td>1164590000      </td> <td>1678   </td>\n",
       "        </tr>\n",
       "        <tr>\n",
       "            <td>Jaws                            </td> <td>260000000</td> <td>1138620700      </td> <td>337.931</td>\n",
       "        </tr>\n",
       "        <tr>\n",
       "            <td>Doctor Zhivago                  </td> <td>111721910</td> <td>1103564200      </td> <td>887.778</td>\n",
       "        </tr>\n",
       "        <tr>\n",
       "            <td>The Exorcist                    </td> <td>232906145</td> <td>983226600       </td> <td>322.156</td>\n",
       "        </tr>\n",
       "        <tr>\n",
       "            <td>Snow White and the Seven Dwarves</td> <td>184925486</td> <td>969010000       </td> <td>424    </td>\n",
       "        </tr>\n",
       "    </tbody>\n",
       "</table>\n",
       "<p>... (190 rows omitted)</p>"
      ],
      "text/plain": [
       "Title                            | Gross     | Gross (Adjusted) | Percent\n",
       "Gone with the Wind               | 198676459 | 1796176700       | 804.071\n",
       "Star Wars                        | 460998007 | 1583483200       | 243.49\n",
       "The Sound of Music               | 158671368 | 1266072700       | 697.921\n",
       "E.T.: The Extra-Terrestrial      | 435110554 | 1261085000       | 189.831\n",
       "Titanic                          | 658672302 | 1204368000       | 82.8478\n",
       "The Ten Commandments             | 65500000  | 1164590000       | 1678\n",
       "Jaws                             | 260000000 | 1138620700       | 337.931\n",
       "Doctor Zhivago                   | 111721910 | 1103564200       | 887.778\n",
       "The Exorcist                     | 232906145 | 983226600        | 322.156\n",
       "Snow White and the Seven Dwarves | 184925486 | 969010000        | 424\n",
       "... (190 rows omitted)"
      ]
     },
     "execution_count": 47,
     "metadata": {},
     "output_type": "execute_result"
    }
   ],
   "source": [
    "percinc = abs(top_movies.column('Gross (Adjusted)')/top_movies.column('Gross')-1)* 100\n",
    "perctable = top_movies.with_column('Percent', percinc)\n",
    "perctable"
   ]
  },
  {
   "cell_type": "code",
   "execution_count": 45,
   "metadata": {},
   "outputs": [
    {
     "data": {
      "text/plain": [
       "5.0"
      ]
     },
     "execution_count": 45,
     "metadata": {},
     "output_type": "execute_result"
    }
   ],
   "source": [
    "def percent_increase(small, big):\n",
    "    ratio = big/small\n",
    "    prop_increase = ratio - 1\n",
    "    percent = prop_increase * 100\n",
    "    return round(percent,2)\n",
    "percent_increase(100,105)"
   ]
  },
  {
   "cell_type": "code",
   "execution_count": 49,
   "metadata": {},
   "outputs": [
    {
     "data": {
      "text/html": [
       "<table border=\"1\" class=\"dataframe\">\n",
       "    <thead>\n",
       "        <tr>\n",
       "            <th>Title</th> <th>Gross</th> <th>Gross (Adjusted)</th> <th>percent_increase</th>\n",
       "        </tr>\n",
       "    </thead>\n",
       "    <tbody>\n",
       "        <tr>\n",
       "            <td>Gone with the Wind              </td> <td>198676459</td> <td>1796176700      </td> <td>804.07          </td>\n",
       "        </tr>\n",
       "        <tr>\n",
       "            <td>Star Wars                       </td> <td>460998007</td> <td>1583483200      </td> <td>243.49          </td>\n",
       "        </tr>\n",
       "        <tr>\n",
       "            <td>The Sound of Music              </td> <td>158671368</td> <td>1266072700      </td> <td>697.92          </td>\n",
       "        </tr>\n",
       "        <tr>\n",
       "            <td>E.T.: The Extra-Terrestrial     </td> <td>435110554</td> <td>1261085000      </td> <td>189.83          </td>\n",
       "        </tr>\n",
       "        <tr>\n",
       "            <td>Titanic                         </td> <td>658672302</td> <td>1204368000      </td> <td>82.85           </td>\n",
       "        </tr>\n",
       "        <tr>\n",
       "            <td>The Ten Commandments            </td> <td>65500000 </td> <td>1164590000      </td> <td>1678            </td>\n",
       "        </tr>\n",
       "        <tr>\n",
       "            <td>Jaws                            </td> <td>260000000</td> <td>1138620700      </td> <td>337.93          </td>\n",
       "        </tr>\n",
       "        <tr>\n",
       "            <td>Doctor Zhivago                  </td> <td>111721910</td> <td>1103564200      </td> <td>887.78          </td>\n",
       "        </tr>\n",
       "        <tr>\n",
       "            <td>The Exorcist                    </td> <td>232906145</td> <td>983226600       </td> <td>322.16          </td>\n",
       "        </tr>\n",
       "        <tr>\n",
       "            <td>Snow White and the Seven Dwarves</td> <td>184925486</td> <td>969010000       </td> <td>424             </td>\n",
       "        </tr>\n",
       "    </tbody>\n",
       "</table>\n",
       "<p>... (190 rows omitted)</p>"
      ],
      "text/plain": [
       "Title                            | Gross     | Gross (Adjusted) | percent_increase\n",
       "Gone with the Wind               | 198676459 | 1796176700       | 804.07\n",
       "Star Wars                        | 460998007 | 1583483200       | 243.49\n",
       "The Sound of Music               | 158671368 | 1266072700       | 697.92\n",
       "E.T.: The Extra-Terrestrial      | 435110554 | 1261085000       | 189.83\n",
       "Titanic                          | 658672302 | 1204368000       | 82.85\n",
       "The Ten Commandments             | 65500000  | 1164590000       | 1678\n",
       "Jaws                             | 260000000 | 1138620700       | 337.93\n",
       "Doctor Zhivago                   | 111721910 | 1103564200       | 887.78\n",
       "The Exorcist                     | 232906145 | 983226600        | 322.16\n",
       "Snow White and the Seven Dwarves | 184925486 | 969010000        | 424\n",
       "... (190 rows omitted)"
      ]
     },
     "execution_count": 49,
     "metadata": {},
     "output_type": "execute_result"
    }
   ],
   "source": [
    "increase_array = top_movies.apply(percent_increase,'Gross','Gross (Adjusted)')\n",
    "top_movies = top_movies.with_column('percent_increase', increase_array)\n",
    "top_movies"
   ]
  },
  {
   "cell_type": "code",
   "execution_count": null,
   "metadata": {},
   "outputs": [],
   "source": []
  }
 ],
 "metadata": {
  "anaconda-cloud": {},
  "kernelspec": {
   "display_name": "Python 3",
   "language": "python",
   "name": "python3"
  },
  "language_info": {
   "codemirror_mode": {
    "name": "ipython",
    "version": 3
   },
   "file_extension": ".py",
   "mimetype": "text/x-python",
   "name": "python",
   "nbconvert_exporter": "python",
   "pygments_lexer": "ipython3",
   "version": "3.12.1"
  }
 },
 "nbformat": 4,
 "nbformat_minor": 4
}
